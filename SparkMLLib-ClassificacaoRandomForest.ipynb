{
 "cells": [
  {
   "cell_type": "markdown",
   "metadata": {},
   "source": [
    "## Spark MLLIb - Classificação - Random Forest"
   ]
  },
  {
   "cell_type": "markdown",
   "metadata": {},
   "source": [
    "**Descrição**\n",
    "\n",
    "    . Um dos algoritmos mais populares\n",
    "    . É um algortimo de Método Ensemble\n",
    "    . Um modelo de Random Forest constrói diversos modelo e cada modelo é usado para prever resultados de forma individual.\n",
    "      Ema votação é feita pelo Random Forest para escolher o melhor modelo.\n",
    "      \n",
    "**Vantagens**\n",
    "\n",
    "    . Normalmente oferece boa acurácia\n",
    "    . Eficiente com muitas variáveis preditoras\n",
    "    . Funciona muito bem de forma paralelizada\n",
    "    . Excelente com valores missing\n",
    "    \n",
    "**Desvantagens**\n",
    "\n",
    "    . Mais Lento\n",
    "    . Bias podem ocorrer com frequência\n",
    "    \n",
    "**Aplicação**\n",
    "\n",
    "    . Pesquisa cientifica\n",
    "    . Diagnóstico médico"
   ]
  },
  {
   "cell_type": "markdown",
   "metadata": {},
   "source": [
    "### Classificar clientes de acordo com a possibilidade de pagar ou não o crédito"
   ]
  },
  {
   "cell_type": "code",
   "execution_count": 2,
   "metadata": {},
   "outputs": [],
   "source": [
    "# Import dos modulos\n",
    "import math\n",
    "from pyspark.sql import Row\n",
    "from pyspark.ml.linalg import Vectors\n",
    "from pyspark.ml.feature import StringIndexer\n",
    "from pyspark.ml.feature import PCA\n",
    "from pyspark.ml.classification import RandomForestClassifier\n",
    "from pyspark.ml.evaluation import MulticlassClassificationEvaluator"
   ]
  },
  {
   "cell_type": "code",
   "execution_count": 3,
   "metadata": {},
   "outputs": [],
   "source": [
    "# Spark Session - Para se trabalhar com DataFrames no Spark\n",
    "spSession = SparkSession.builder.master(\"local\").appName(\"SparkMLLib-RandomForest\").getOrCreate()"
   ]
  },
  {
   "cell_type": "code",
   "execution_count": 10,
   "metadata": {},
   "outputs": [],
   "source": [
    "# Carregando os dados e gerando um RDD\n",
    "bankRDD = sc.textFile(\"bank.csv\")"
   ]
  },
  {
   "cell_type": "code",
   "execution_count": 11,
   "metadata": {},
   "outputs": [
    {
     "data": {
      "text/plain": [
       "bank.csv MapPartitionsRDD[7] at textFile at NativeMethodAccessorImpl.java:0"
      ]
     },
     "execution_count": 11,
     "metadata": {},
     "output_type": "execute_result"
    }
   ],
   "source": [
    "bankRDD.cache()"
   ]
  },
  {
   "cell_type": "code",
   "execution_count": 12,
   "metadata": {},
   "outputs": [
    {
     "data": {
      "text/plain": [
       "542"
      ]
     },
     "execution_count": 12,
     "metadata": {},
     "output_type": "execute_result"
    }
   ],
   "source": [
    "# contando o numero de elementos do dataset\n",
    "bankRDD.count()"
   ]
  },
  {
   "cell_type": "code",
   "execution_count": 13,
   "metadata": {},
   "outputs": [
    {
     "data": {
      "text/plain": [
       "'\"age\";\"job\";\"marital\";\"education\";\"default\";\"balance\";\"housing\";\"loan\";\"contact\";\"day\";\"month\";\"duration\";\"campaign\";\"pdays\";\"previous\";\"poutcome\";\"y\"'"
      ]
     },
     "execution_count": 13,
     "metadata": {},
     "output_type": "execute_result"
    }
   ],
   "source": [
    "# Visualizando o cabeçalho\n",
    "bankRDD.first()"
   ]
  },
  {
   "cell_type": "code",
   "execution_count": 14,
   "metadata": {},
   "outputs": [],
   "source": [
    "# Removendo o cabeçalho\n",
    "header = bankRDD.first()\n",
    "bankRDD2 = bankRDD.filter(lambda line: header != line)"
   ]
  },
  {
   "cell_type": "code",
   "execution_count": 16,
   "metadata": {},
   "outputs": [
    {
     "data": {
      "text/plain": [
       "['30;\"unemployed\";\"married\";\"primary\";\"no\";1787;\"no\";\"no\";\"cellular\";19;\"oct\";79;1;-1;0;\"unknown\";\"no\"',\n",
       " '33;\"services\";\"married\";\"secondary\";\"no\";4789;\"yes\";\"yes\";\"cellular\";11;\"may\";220;1;339;4;\"failure\";\"yes\"',\n",
       " '35;\"management\";\"single\";\"tertiary\";\"no\";1350;\"yes\";\"no\";\"cellular\";16;\"apr\";185;1;330;1;\"failure\";\"yes\"',\n",
       " '30;\"management\";\"married\";\"tertiary\";\"no\";1476;\"yes\";\"yes\";\"unknown\";3;\"jun\";199;4;-1;0;\"unknown\";\"yes\"',\n",
       " '59;\"blue-collar\";\"married\";\"secondary\";\"no\";0;\"yes\";\"no\";\"unknown\";5;\"may\";226;1;-1;0;\"unknown\";\"no\"']"
      ]
     },
     "execution_count": 16,
     "metadata": {},
     "output_type": "execute_result"
    }
   ],
   "source": [
    "# Visualizando o novo RDD\n",
    "bankRDD2.take(5)"
   ]
  },
  {
   "cell_type": "markdown",
   "metadata": {},
   "source": [
    "### Limpeza dos Dados"
   ]
  },
  {
   "cell_type": "code",
   "execution_count": 23,
   "metadata": {},
   "outputs": [],
   "source": [
    "# Transformando os dados para valores numéricos\n",
    "def transformToNumeric(inputStr):\n",
    "        \n",
    "    attList = inputStr.replace(\"\\\"\",\"\").split(\";\")\n",
    "    \n",
    "    age = float(attList[0])\n",
    "    outcome = 0.0 if attList[16] == \"no\" else 1.0\n",
    "    single = 1.0 if attList[2] == \"single\" else 0.0\n",
    "    married = 1.0 if attList[2] == \"married\" else 0.0\n",
    "    divorced = 1.0 if attList[2] == \"divorced\" else 0.0\n",
    "    primary = 1.0 if attList[3] == \"primary\" else 0.0\n",
    "    secondary = 1.0 if attList[3] == 'secondary' else 0.0\n",
    "    tertiary = 1.0 if attList[3] == \"tertiary\" else 0.0\n",
    "    default = 0.0 if attList[4] == \"no\" else 1.0\n",
    "    balance = float(attList[5])\n",
    "    loan = 0.0 if attList[7] == \"no\" else 1.0\n",
    "    \n",
    "    # Cria as linhas com os objetos transformados\n",
    "    linhas = Row( OUTCOME = outcome, AGE = age, SINGLE = single, MARRIED = married, DIVORCED = divorced, \n",
    "                 PRIMARY = primary, SECONDARY = secondary, TERTIARY = tertiary, DEFAULT = default, BALANCE = balance,\n",
    "                 LOAN = loan)\n",
    "    return linhas"
   ]
  },
  {
   "cell_type": "code",
   "execution_count": 24,
   "metadata": {},
   "outputs": [
    {
     "data": {
      "text/plain": [
       "[Row(AGE=30.0, BALANCE=1787.0, DEFAULT=0.0, DIVORCED=0.0, LOAN=0.0, MARRIED=1.0, OUTCOME=0.0, PRIMARY=1.0, SECONDARY=0.0, SINGLE=0.0, TERTIARY=0.0),\n",
       " Row(AGE=33.0, BALANCE=4789.0, DEFAULT=0.0, DIVORCED=0.0, LOAN=1.0, MARRIED=1.0, OUTCOME=1.0, PRIMARY=0.0, SECONDARY=1.0, SINGLE=0.0, TERTIARY=0.0),\n",
       " Row(AGE=35.0, BALANCE=1350.0, DEFAULT=0.0, DIVORCED=0.0, LOAN=0.0, MARRIED=0.0, OUTCOME=1.0, PRIMARY=0.0, SECONDARY=0.0, SINGLE=1.0, TERTIARY=1.0),\n",
       " Row(AGE=30.0, BALANCE=1476.0, DEFAULT=0.0, DIVORCED=0.0, LOAN=1.0, MARRIED=1.0, OUTCOME=1.0, PRIMARY=0.0, SECONDARY=0.0, SINGLE=0.0, TERTIARY=1.0),\n",
       " Row(AGE=59.0, BALANCE=0.0, DEFAULT=0.0, DIVORCED=0.0, LOAN=0.0, MARRIED=1.0, OUTCOME=0.0, PRIMARY=0.0, SECONDARY=1.0, SINGLE=0.0, TERTIARY=0.0),\n",
       " Row(AGE=35.0, BALANCE=747.0, DEFAULT=0.0, DIVORCED=0.0, LOAN=0.0, MARRIED=0.0, OUTCOME=1.0, PRIMARY=0.0, SECONDARY=0.0, SINGLE=1.0, TERTIARY=1.0),\n",
       " Row(AGE=36.0, BALANCE=307.0, DEFAULT=0.0, DIVORCED=0.0, LOAN=0.0, MARRIED=1.0, OUTCOME=1.0, PRIMARY=0.0, SECONDARY=0.0, SINGLE=0.0, TERTIARY=1.0),\n",
       " Row(AGE=39.0, BALANCE=147.0, DEFAULT=0.0, DIVORCED=0.0, LOAN=0.0, MARRIED=1.0, OUTCOME=0.0, PRIMARY=0.0, SECONDARY=1.0, SINGLE=0.0, TERTIARY=0.0),\n",
       " Row(AGE=41.0, BALANCE=221.0, DEFAULT=0.0, DIVORCED=0.0, LOAN=0.0, MARRIED=1.0, OUTCOME=0.0, PRIMARY=0.0, SECONDARY=0.0, SINGLE=0.0, TERTIARY=1.0),\n",
       " Row(AGE=43.0, BALANCE=-88.0, DEFAULT=0.0, DIVORCED=0.0, LOAN=1.0, MARRIED=1.0, OUTCOME=1.0, PRIMARY=1.0, SECONDARY=0.0, SINGLE=0.0, TERTIARY=0.0),\n",
       " Row(AGE=39.0, BALANCE=9374.0, DEFAULT=0.0, DIVORCED=0.0, LOAN=0.0, MARRIED=1.0, OUTCOME=0.0, PRIMARY=0.0, SECONDARY=1.0, SINGLE=0.0, TERTIARY=0.0),\n",
       " Row(AGE=43.0, BALANCE=264.0, DEFAULT=0.0, DIVORCED=0.0, LOAN=0.0, MARRIED=1.0, OUTCOME=0.0, PRIMARY=0.0, SECONDARY=1.0, SINGLE=0.0, TERTIARY=0.0),\n",
       " Row(AGE=36.0, BALANCE=1109.0, DEFAULT=0.0, DIVORCED=0.0, LOAN=0.0, MARRIED=1.0, OUTCOME=0.0, PRIMARY=0.0, SECONDARY=0.0, SINGLE=0.0, TERTIARY=1.0),\n",
       " Row(AGE=20.0, BALANCE=502.0, DEFAULT=0.0, DIVORCED=0.0, LOAN=0.0, MARRIED=0.0, OUTCOME=1.0, PRIMARY=0.0, SECONDARY=1.0, SINGLE=1.0, TERTIARY=0.0),\n",
       " Row(AGE=31.0, BALANCE=360.0, DEFAULT=0.0, DIVORCED=0.0, LOAN=1.0, MARRIED=1.0, OUTCOME=1.0, PRIMARY=0.0, SECONDARY=1.0, SINGLE=0.0, TERTIARY=0.0)]"
      ]
     },
     "execution_count": 24,
     "metadata": {},
     "output_type": "execute_result"
    }
   ],
   "source": [
    "# Aplicando a função de limpeza ao conjunto de dados\n",
    "bankRDD3 = bankRDD2.map(transformToNumeric)\n",
    "bankRDD3.collect()[:15]"
   ]
  },
  {
   "cell_type": "markdown",
   "metadata": {},
   "source": [
    "### Análise exploratória de dados"
   ]
  },
  {
   "cell_type": "code",
   "execution_count": 25,
   "metadata": {},
   "outputs": [],
   "source": [
    "# Transforma para Dataframe\n",
    "bankDF = spSession.createDataFrame(bankRDD3)"
   ]
  },
  {
   "cell_type": "code",
   "execution_count": 27,
   "metadata": {},
   "outputs": [
    {
     "name": "stdout",
     "output_type": "stream",
     "text": [
      "+-------+------------------+------------------+--------------------+-------------------+-------------------+------------------+-------------------+------------------+------------------+------------------+------------------+\n",
      "|summary|               AGE|           BALANCE|             DEFAULT|           DIVORCED|               LOAN|           MARRIED|            OUTCOME|           PRIMARY|         SECONDARY|            SINGLE|          TERTIARY|\n",
      "+-------+------------------+------------------+--------------------+-------------------+-------------------+------------------+-------------------+------------------+------------------+------------------+------------------+\n",
      "|  count|               541|               541|                 541|                541|                541|               541|                541|               541|               541|               541|               541|\n",
      "|   mean| 41.26987060998152|1444.7818853974122|0.022181146025878003|0.10905730129390019|0.16266173752310537|0.6155268022181146| 0.3974121996303142|0.1534195933456562|0.4953789279112754|0.2754158964879852|0.3142329020332717|\n",
      "| stddev|10.555374170161665|2423.2722735171924|  0.1474086424402979| 0.3119995822161848|0.36939832735881994|0.4869207382098541|0.48981549262335145| 0.360725025449802|0.5004413742994283|0.4471370479760759|0.4646392600205975|\n",
      "|    min|              19.0|           -1206.0|                 0.0|                0.0|                0.0|               0.0|                0.0|               0.0|               0.0|               0.0|               0.0|\n",
      "|    max|              78.0|           16873.0|                 1.0|                1.0|                1.0|               1.0|                1.0|               1.0|               1.0|               1.0|               1.0|\n",
      "+-------+------------------+------------------+--------------------+-------------------+-------------------+------------------+-------------------+------------------+------------------+------------------+------------------+\n",
      "\n"
     ]
    }
   ],
   "source": [
    "# Estatisticas descritivas\n",
    "bankDF.describe().show()"
   ]
  },
  {
   "cell_type": "code",
   "execution_count": 29,
   "metadata": {},
   "outputs": [
    {
     "name": "stdout",
     "output_type": "stream",
     "text": [
      "Correlação da variável OUTCOME com AGE -0.18232104327365253\n",
      "Correlação da variável OUTCOME com BALANCE 0.03657486611997681\n",
      "Correlação da variável OUTCOME com DEFAULT -0.04536965206737378\n",
      "Correlação da variável OUTCOME com DIVORCED -0.07812659940926987\n",
      "Correlação da variável OUTCOME com LOAN -0.030420586112717318\n",
      "Correlação da variável OUTCOME com MARRIED -0.37532412991335623\n",
      "Correlação da variável OUTCOME com OUTCOME 1.0\n",
      "Correlação da variável OUTCOME com PRIMARY -0.12561548832677982\n",
      "Correlação da variável OUTCOME com SECONDARY 0.026392774894072973\n",
      "Correlação da variável OUTCOME com SINGLE 0.46323284934360515\n",
      "Correlação da variável OUTCOME com TERTIARY 0.08494840766635618\n"
     ]
    }
   ],
   "source": [
    "# Correlaçao entre as variaveis\n",
    "for column in bankDF.columns:\n",
    "    if not(isinstance(bankDF.select(column).take(1)[0][0], str)):\n",
    "        print( \"Correlação da variável OUTCOME com\", column, bankDF.stat.corr(\"OUTCOME\", column))"
   ]
  },
  {
   "cell_type": "markdown",
   "metadata": {},
   "source": [
    "### Pré-Processamento dos Dados"
   ]
  },
  {
   "cell_type": "code",
   "execution_count": 30,
   "metadata": {},
   "outputs": [],
   "source": [
    "# Criando um labeledPoint (target, Vector[features])\n",
    "def transformaVar(row):\n",
    "    obj = (row[\"OUTCOME\"], Vectors.dense( row[\"AGE\"], row[\"BALANCE\"], row[\"DEFAULT\"], row[\"DIVORCED\"], row[\"LOAN\"],\n",
    "                                          row[\"MARRIED\"], row[\"PRIMARY\"], row[\"SECONDARY\"], row[\"SINGLE\"],\n",
    "                                          row[\"TERTIARY\"]))\n",
    "    return obj"
   ]
  },
  {
   "cell_type": "code",
   "execution_count": 33,
   "metadata": {},
   "outputs": [],
   "source": [
    "bankRDD4 = bankRDD3.map(transformaVar)"
   ]
  },
  {
   "cell_type": "code",
   "execution_count": 34,
   "metadata": {},
   "outputs": [
    {
     "data": {
      "text/plain": [
       "[(0.0, DenseVector([30.0, 1787.0, 0.0, 0.0, 0.0, 1.0, 1.0, 0.0, 0.0, 0.0])),\n",
       " (1.0, DenseVector([33.0, 4789.0, 0.0, 0.0, 1.0, 1.0, 0.0, 1.0, 0.0, 0.0])),\n",
       " (1.0, DenseVector([35.0, 1350.0, 0.0, 0.0, 0.0, 0.0, 0.0, 0.0, 1.0, 1.0])),\n",
       " (1.0, DenseVector([30.0, 1476.0, 0.0, 0.0, 1.0, 1.0, 0.0, 0.0, 0.0, 1.0])),\n",
       " (0.0, DenseVector([59.0, 0.0, 0.0, 0.0, 0.0, 1.0, 0.0, 1.0, 0.0, 0.0])),\n",
       " (1.0, DenseVector([35.0, 747.0, 0.0, 0.0, 0.0, 0.0, 0.0, 0.0, 1.0, 1.0])),\n",
       " (1.0, DenseVector([36.0, 307.0, 0.0, 0.0, 0.0, 1.0, 0.0, 0.0, 0.0, 1.0])),\n",
       " (0.0, DenseVector([39.0, 147.0, 0.0, 0.0, 0.0, 1.0, 0.0, 1.0, 0.0, 0.0])),\n",
       " (0.0, DenseVector([41.0, 221.0, 0.0, 0.0, 0.0, 1.0, 0.0, 0.0, 0.0, 1.0])),\n",
       " (1.0, DenseVector([43.0, -88.0, 0.0, 0.0, 1.0, 1.0, 1.0, 0.0, 0.0, 0.0]))]"
      ]
     },
     "execution_count": 34,
     "metadata": {},
     "output_type": "execute_result"
    }
   ],
   "source": [
    "bankRDD4.collect()[:10]"
   ]
  },
  {
   "cell_type": "code",
   "execution_count": 35,
   "metadata": {},
   "outputs": [
    {
     "name": "stdout",
     "output_type": "stream",
     "text": [
      "+--------------------+-----+\n",
      "|            features|label|\n",
      "+--------------------+-----+\n",
      "|[30.0,1787.0,0.0,...|  0.0|\n",
      "|[33.0,4789.0,0.0,...|  1.0|\n",
      "|[35.0,1350.0,0.0,...|  1.0|\n",
      "|[30.0,1476.0,0.0,...|  1.0|\n",
      "|[59.0,0.0,0.0,0.0...|  0.0|\n",
      "|[35.0,747.0,0.0,0...|  1.0|\n",
      "|[36.0,307.0,0.0,0...|  1.0|\n",
      "|[39.0,147.0,0.0,0...|  0.0|\n",
      "|[41.0,221.0,0.0,0...|  0.0|\n",
      "|[43.0,-88.0,0.0,0...|  1.0|\n",
      "+--------------------+-----+\n",
      "only showing top 10 rows\n",
      "\n"
     ]
    }
   ],
   "source": [
    "bankDF = spSession.createDataFrame(bankRDD4, [\"label\", \"features\"])\n",
    "bankDF.select(\"features\", \"label\").show(10)"
   ]
  },
  {
   "cell_type": "code",
   "execution_count": 36,
   "metadata": {},
   "outputs": [
    {
     "name": "stdout",
     "output_type": "stream",
     "text": [
      "+-----+------------------------------------------------------------+\n",
      "|label|pcaFeatures                                                 |\n",
      "+-----+------------------------------------------------------------+\n",
      "|0.0  |[-1787.018897197381,28.86209683775489,-0.06459982604876296] |\n",
      "|1.0  |[-4789.020177138492,29.922562636340885,-0.9830243513096447] |\n",
      "|1.0  |[-1350.022213163262,34.10110809796657,0.8951427168301616]   |\n",
      "|1.0  |[-1476.0189517184556,29.051333993596376,0.3952723868021922] |\n",
      "|0.0  |[-0.037889185366455545,58.9897182000177,-0.729079238366194] |\n",
      "|1.0  |[-747.0223377634923,34.488291981817554,0.9045654956970024]  |\n",
      "|1.0  |[-307.0230691022592,35.799850539655154,0.5170631523785959]  |\n",
      "|0.0  |[-147.0250121617634,38.90107856650326,-0.8069627548799431]  |\n",
      "|0.0  |[-221.0262985348787,40.853633675694894,0.53730363658032]    |\n",
      "|1.0  |[87.9723868768871,43.06265944115107,-0.06701642871171626]   |\n",
      "|0.0  |[-9374.023105550941,32.9764588379908,-0.9511484606914545]   |\n",
      "|0.0  |[-264.02755731528384,42.824803639813474,-0.7936737710234711]|\n",
      "|0.0  |[-1109.0229033818864,35.28488955317342,0.504530700220708]   |\n",
      "|1.0  |[-502.012736403296,19.649271797807508,-0.486159938202079]   |\n",
      "|1.0  |[-360.0198076551079,30.766980637614004,-0.9213732295769713] |\n",
      "|0.0  |[-194.02563994730255,39.87162681803836,0.4530987690401236]  |\n",
      "|0.0  |[-4073.0351205683055,53.37532349166361,-0.804063931764698]  |\n",
      "|1.0  |[-2317.0232980131414,35.479626424872734,0.8875905344623362] |\n",
      "|0.0  |[220.9838976313296,25.12353896656834,0.34603890246558655]   |\n",
      "|1.0  |[-132.01987660190264,30.913009397389693,-0.8369629258629339]|\n",
      "+-----+------------------------------------------------------------+\n",
      "only showing top 20 rows\n",
      "\n"
     ]
    }
   ],
   "source": [
    "# Aplicando Redução de Dimensionalidade com PCA\n",
    "bankPCA = PCA(k = 3, inputCol = \"features\", outputCol = \"pcaFeatures\")\n",
    "pcaModel = bankPCA.fit(bankDF)\n",
    "pcaResult = pcaModel.transform(bankDF).select(\"label\", \"pcaFeatures\")\n",
    "pcaResult.show(truncate = False)"
   ]
  },
  {
   "cell_type": "code",
   "execution_count": 37,
   "metadata": {},
   "outputs": [
    {
     "data": {
      "text/plain": [
       "[Row(label=0.0, pcaFeatures=DenseVector([-1787.0189, 28.8621, -0.0646]), indexed=0.0),\n",
       " Row(label=1.0, pcaFeatures=DenseVector([-4789.0202, 29.9226, -0.983]), indexed=1.0),\n",
       " Row(label=1.0, pcaFeatures=DenseVector([-1350.0222, 34.1011, 0.8951]), indexed=1.0),\n",
       " Row(label=1.0, pcaFeatures=DenseVector([-1476.019, 29.0513, 0.3953]), indexed=1.0),\n",
       " Row(label=0.0, pcaFeatures=DenseVector([-0.0379, 58.9897, -0.7291]), indexed=0.0),\n",
       " Row(label=1.0, pcaFeatures=DenseVector([-747.0223, 34.4883, 0.9046]), indexed=1.0),\n",
       " Row(label=1.0, pcaFeatures=DenseVector([-307.0231, 35.7999, 0.5171]), indexed=1.0),\n",
       " Row(label=0.0, pcaFeatures=DenseVector([-147.025, 38.9011, -0.807]), indexed=0.0),\n",
       " Row(label=0.0, pcaFeatures=DenseVector([-221.0263, 40.8536, 0.5373]), indexed=0.0),\n",
       " Row(label=1.0, pcaFeatures=DenseVector([87.9724, 43.0627, -0.067]), indexed=1.0),\n",
       " Row(label=0.0, pcaFeatures=DenseVector([-9374.0231, 32.9765, -0.9511]), indexed=0.0),\n",
       " Row(label=0.0, pcaFeatures=DenseVector([-264.0276, 42.8248, -0.7937]), indexed=0.0),\n",
       " Row(label=0.0, pcaFeatures=DenseVector([-1109.0229, 35.2849, 0.5045]), indexed=0.0),\n",
       " Row(label=1.0, pcaFeatures=DenseVector([-502.0127, 19.6493, -0.4862]), indexed=1.0),\n",
       " Row(label=1.0, pcaFeatures=DenseVector([-360.0198, 30.767, -0.9214]), indexed=1.0),\n",
       " Row(label=0.0, pcaFeatures=DenseVector([-194.0256, 39.8716, 0.4531]), indexed=0.0),\n",
       " Row(label=0.0, pcaFeatures=DenseVector([-4073.0351, 53.3753, -0.8041]), indexed=0.0),\n",
       " Row(label=1.0, pcaFeatures=DenseVector([-2317.0233, 35.4796, 0.8876]), indexed=1.0),\n",
       " Row(label=0.0, pcaFeatures=DenseVector([220.9839, 25.1235, 0.346]), indexed=0.0),\n",
       " Row(label=1.0, pcaFeatures=DenseVector([-132.0199, 30.913, -0.837]), indexed=1.0)]"
      ]
     },
     "execution_count": 37,
     "metadata": {},
     "output_type": "execute_result"
    }
   ],
   "source": [
    "# Indexação é pré-requisito para Decision Trees\n",
    "stringIndexer = StringIndexer(inputCol = \"label\", outputCol = \"indexed\")\n",
    "si_model = stringIndexer.fit(pcaResult)\n",
    "obj_final = si_model.transform(pcaResult)\n",
    "obj_final.collect()[:20]"
   ]
  },
  {
   "cell_type": "markdown",
   "metadata": {},
   "source": [
    "### Machine Learning"
   ]
  },
  {
   "cell_type": "code",
   "execution_count": 40,
   "metadata": {},
   "outputs": [],
   "source": [
    "# Dados de treino e teste\n",
    "(dados_treino, dados_teste) = obj_final.randomSplit([0.7, 0.3])"
   ]
  },
  {
   "cell_type": "code",
   "execution_count": 41,
   "metadata": {},
   "outputs": [
    {
     "data": {
      "text/plain": [
       "357"
      ]
     },
     "execution_count": 41,
     "metadata": {},
     "output_type": "execute_result"
    }
   ],
   "source": [
    "dados_treino.count()"
   ]
  },
  {
   "cell_type": "code",
   "execution_count": 42,
   "metadata": {},
   "outputs": [
    {
     "data": {
      "text/plain": [
       "184"
      ]
     },
     "execution_count": 42,
     "metadata": {},
     "output_type": "execute_result"
    }
   ],
   "source": [
    "dados_teste.count()"
   ]
  },
  {
   "cell_type": "code",
   "execution_count": 43,
   "metadata": {},
   "outputs": [],
   "source": [
    "# Criando o modelo\n",
    "rfClassifier = RandomForestClassifier(labelCol = \"indexed\", featuresCol = \"pcaFeatures\")\n",
    "modelo = rfClassifier.fit(dados_treino)"
   ]
  },
  {
   "cell_type": "code",
   "execution_count": 44,
   "metadata": {},
   "outputs": [
    {
     "data": {
      "text/plain": [
       "[Row(prediction=0.0, indexed=0.0, label=0.0, pcaFeatures=DenseVector([-14093.0337, 47.9412, -0.9569])),\n",
       " Row(prediction=0.0, indexed=0.0, label=0.0, pcaFeatures=DenseVector([-9009.0251, 36.2106, 0.4038])),\n",
       " Row(prediction=0.0, indexed=0.0, label=0.0, pcaFeatures=DenseVector([-8104.0336, 49.7873, -0.8708])),\n",
       " Row(prediction=1.0, indexed=0.0, label=0.0, pcaFeatures=DenseVector([-7190.0255, 37.3733, 0.7344])),\n",
       " Row(prediction=1.0, indexed=0.0, label=0.0, pcaFeatures=DenseVector([-7082.0351, 52.4544, -0.0453])),\n",
       " Row(prediction=1.0, indexed=0.0, label=0.0, pcaFeatures=DenseVector([-6313.0372, 55.9407, -0.1054])),\n",
       " Row(prediction=0.0, indexed=0.0, label=0.0, pcaFeatures=DenseVector([-5887.0296, 44.2135, 0.4752])),\n",
       " Row(prediction=0.0, indexed=0.0, label=0.0, pcaFeatures=DenseVector([-4073.0351, 53.3753, -0.8041])),\n",
       " Row(prediction=0.0, indexed=0.0, label=0.0, pcaFeatures=DenseVector([-3762.0275, 41.5791, 0.4933])),\n",
       " Row(prediction=0.0, indexed=0.0, label=0.0, pcaFeatures=DenseVector([-3571.025, 37.7029, 0.4812])),\n",
       " Row(prediction=1.0, indexed=0.0, label=0.0, pcaFeatures=DenseVector([-3222.034, 51.9177, 0.8418])),\n",
       " Row(prediction=1.0, indexed=0.0, label=0.0, pcaFeatures=DenseVector([-3096.0186, 27.9808, -0.4889])),\n",
       " Row(prediction=0.0, indexed=0.0, label=0.0, pcaFeatures=DenseVector([-2231.0336, 51.5589, -0.7866])),\n",
       " Row(prediction=0.0, indexed=0.0, label=0.0, pcaFeatures=DenseVector([-2030.0265, 40.6915, -0.9059])),\n",
       " Row(prediction=0.0, indexed=0.0, label=0.0, pcaFeatures=DenseVector([-1981.0227, 34.7243, -0.847])),\n",
       " Row(prediction=1.0, indexed=0.0, label=0.0, pcaFeatures=DenseVector([-1890.0195, 29.7789, -0.5622])),\n",
       " Row(prediction=0.0, indexed=0.0, label=0.0, pcaFeatures=DenseVector([-1831.0215, 32.8212, -0.8522])),\n",
       " Row(prediction=1.0, indexed=0.0, label=0.0, pcaFeatures=DenseVector([-1808.0189, 28.8371, -0.8669])),\n",
       " Row(prediction=0.0, indexed=0.0, label=0.0, pcaFeatures=DenseVector([-1787.0189, 28.8621, -0.0646])),\n",
       " Row(prediction=0.0, indexed=0.0, label=0.0, pcaFeatures=DenseVector([-1699.0234, 35.91, -0.1202]))]"
      ]
     },
     "execution_count": 44,
     "metadata": {},
     "output_type": "execute_result"
    }
   ],
   "source": [
    "# Previsoes com dados de teste\n",
    "predictions = modelo.transform(dados_teste)\n",
    "predictions.select(\"prediction\", \"indexed\", \"label\", \"pcaFeatures\").collect()[:20]"
   ]
  },
  {
   "cell_type": "code",
   "execution_count": 47,
   "metadata": {},
   "outputs": [
    {
     "data": {
      "text/plain": [
       "0.7391304347826086"
      ]
     },
     "execution_count": 47,
     "metadata": {},
     "output_type": "execute_result"
    }
   ],
   "source": [
    "# Avaliando a acuracia\n",
    "evaluator = MulticlassClassificationEvaluator(predictionCol = \"prediction\", labelCol = \"indexed\", metricName = \"accuracy\")\n",
    "evaluator.evaluate(predictions)"
   ]
  },
  {
   "cell_type": "code",
   "execution_count": 48,
   "metadata": {},
   "outputs": [
    {
     "name": "stdout",
     "output_type": "stream",
     "text": [
      "+-------+----------+-----+\n",
      "|indexed|prediction|count|\n",
      "+-------+----------+-----+\n",
      "|    1.0|       1.0|   32|\n",
      "|    0.0|       1.0|   18|\n",
      "|    1.0|       0.0|   30|\n",
      "|    0.0|       0.0|  104|\n",
      "+-------+----------+-----+\n",
      "\n"
     ]
    }
   ],
   "source": [
    "# Confusion Matrix\n",
    "predictions.groupBy(\"indexed\", \"prediction\").count().show()"
   ]
  },
  {
   "cell_type": "markdown",
   "metadata": {},
   "source": [
    "### FIM"
   ]
  }
 ],
 "metadata": {
  "kernelspec": {
   "display_name": "Python 3",
   "language": "python",
   "name": "python3"
  },
  "language_info": {
   "codemirror_mode": {
    "name": "ipython",
    "version": 3
   },
   "file_extension": ".py",
   "mimetype": "text/x-python",
   "name": "python",
   "nbconvert_exporter": "python",
   "pygments_lexer": "ipython3",
   "version": "3.7.3"
  }
 },
 "nbformat": 4,
 "nbformat_minor": 2
}
